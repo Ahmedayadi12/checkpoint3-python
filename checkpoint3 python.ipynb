{
 "cells": [
  {
   "cell_type": "code",
   "execution_count": null,
   "id": "237c4009",
   "metadata": {},
   "outputs": [],
   "source": [
    "n1=int(input(\"n1=\"))\n",
    "n2=int(input(\"n2=\"))\n",
    "n3=int(input(\"n3=\"))\n",
    "s=n1\n",
    "def maximum(s,n2,n3):\n",
    "    if s<=n2:\n",
    "         s=n2\n",
    "    if s<=n3:\n",
    "        s=n3\n",
    "    return(s)\n",
    "maximum(s,n2,n3)"
   ]
  },
  {
   "cell_type": "code",
   "execution_count": null,
   "id": "13785a51",
   "metadata": {},
   "outputs": [],
   "source": [
    "n1=int(input(\"n1=\"))\n",
    "n2=int(input(\"n2=\"))\n",
    "def calcul(n1,n2):\n",
    "    s=n1+n2\n",
    "    b=n1-n2\n",
    "    return(s,b)\n",
    "calcul(n1,n2)"
   ]
  },
  {
   "cell_type": "code",
   "execution_count": 11,
   "id": "30385b7e",
   "metadata": {},
   "outputs": [
    {
     "name": "stdout",
     "output_type": "stream",
     "text": [
      "n=5\n",
      "t[ 1 ]=\n",
      "1\n",
      "t[ 2 ]=\n",
      "2\n",
      "t[ 3 ]=\n",
      "3\n",
      "t[ 4 ]=\n",
      "4\n",
      "t[ 5 ]=\n",
      "5\n",
      "9\n",
      "8\n"
     ]
    }
   ],
   "source": [
    "n=int(input(\"n=\"))\n",
    "t=[]\n",
    "t1=[]\n",
    "t2=[]\n",
    "for i in range(n):\n",
    "    print(\"t[\",i+1,\"]=\")\n",
    "    t.append(int(input(\"\")))\n",
    "def addition(t1,n):\n",
    "    s=0\n",
    "    for i in range(n):\n",
    "        s=s+t1[i]\n",
    "    return(s)\n",
    "def multiplie(t2,n):\n",
    "    m=1\n",
    "    for i in range(n):\n",
    "        m=m*t2[i]\n",
    "    return(m)\n",
    "j=0\n",
    "k=0\n",
    "for i in range(n):\n",
    "    if i%2==0:\n",
    "        t1.append(t[i])\n",
    "        j+=1\n",
    "    else:\n",
    "        t2.append(t[i])\n",
    "        k+=1\n",
    "print(addition(t1,len(t1)))\n",
    "print(multiplie(t2,len(t2)))\n",
    "\n",
    "\n"
   ]
  },
  {
   "cell_type": "code",
   "execution_count": 2,
   "id": "e3861b8a",
   "metadata": {},
   "outputs": [
    {
     "name": "stdout",
     "output_type": "stream",
     "text": [
      "blan-jaune-noir-rouge-vert\n"
     ]
    }
   ],
   "source": [
    "t=\"vert-rouge-jaune-noir-blanc\"\n",
    "t1=[]\n",
    "def sort(t,t1):\n",
    "    for i in range(5):\n",
    "        f1=t.find(\"-\")\n",
    "        t1.append(t[:f1])\n",
    "        t=t[f1+1:]\n",
    "    return t1.sort()\n",
    "sort(t,t1)\n",
    "t2=\"\"\n",
    "for i in range(5):\n",
    "    t2=t2+\"-\"+t1[i]\n",
    "t2=t2[1:]3\n",
    "print(t2)"
   ]
  },
  {
   "cell_type": "code",
   "execution_count": null,
   "id": "59c4a988",
   "metadata": {},
   "outputs": [],
   "source": [
    "from math import *\n",
    "c=50\n",
    "h=30\n",
    "while True:\n",
    "    d=input(\"d=\")\n",
    "    if \",\" in d:\n",
    "        break\n",
    "t=[]\n",
    "p=\"\"\n",
    "d=d.split(\",\")\n",
    "for i in range(len(d)):\n",
    "    s=sqrt((2 * c* int(d[i]))/h)\n",
    "    t.append(int(s))\n",
    "    p=p+str(t[i])+\",\"\n",
    "print(p[:len(p)-1])"
   ]
  },
  {
   "cell_type": "code",
   "execution_count": 9,
   "id": "8fa58979",
   "metadata": {},
   "outputs": [
    {
     "data": {
      "text/plain": [
       "0"
      ]
     },
     "execution_count": 9,
     "metadata": {},
     "output_type": "execute_result"
    }
   ],
   "source": [
    "len([]*5)"
   ]
  },
  {
   "cell_type": "code",
   "execution_count": null,
   "id": "d145c9f2",
   "metadata": {},
   "outputs": [],
   "source": []
  }
 ],
 "metadata": {
  "kernelspec": {
   "display_name": "Python 3",
   "language": "python",
   "name": "python3"
  },
  "language_info": {
   "codemirror_mode": {
    "name": "ipython",
    "version": 3
   },
   "file_extension": ".py",
   "mimetype": "text/x-python",
   "name": "python",
   "nbconvert_exporter": "python",
   "pygments_lexer": "ipython3",
   "version": "3.8.8"
  }
 },
 "nbformat": 4,
 "nbformat_minor": 5
}
